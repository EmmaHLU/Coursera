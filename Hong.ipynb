{
 "cells": [
  {
   "cell_type": "markdown",
   "id": "085e543d-4c08-4a3e-b856-2075318d254d",
   "metadata": {},
   "source": [
    "# My Jupyter Notebook on IBM Watson Studio"
   ]
  },
  {
   "cell_type": "markdown",
   "id": "af234ef5-1b94-4d8c-8761-9ada69bd9bce",
   "metadata": {},
   "source": [
    "**Hong Lu**\n",
    "\n",
    "My desired occupation is data scientist."
   ]
  },
  {
   "cell_type": "markdown",
   "id": "3e5662c5-af5c-4969-b71a-65f1122f8d8a",
   "metadata": {},
   "source": [
    "*I am intrested in data science as I am very curious about the secrets hidden in data and very excited about the process of gaining insights from data.*"
   ]
  },
  {
   "cell_type": "markdown",
   "id": "0183e894-4266-4777-8ad3-ff164e8d7002",
   "metadata": {},
   "source": [
    "### The code below is to print out current time."
   ]
  },
  {
   "cell_type": "code",
   "execution_count": 2,
   "id": "27bccbce-6df1-48ba-a939-6408996c5f4a",
   "metadata": {},
   "outputs": [
    {
     "name": "stdout",
     "output_type": "stream",
     "text": [
      "1675866856.1032476\n"
     ]
    }
   ],
   "source": [
    "import time\n",
    "ts = time.time()\n",
    "print(ts)"
   ]
  },
  {
   "cell_type": "markdown",
   "id": "5bb216ce-5922-42c6-bba1-f45ff392c126",
   "metadata": {},
   "source": [
    "[This is the link to the coursera website](https://www.coursera.org/)\n",
    "\n",
    "Courses that I am interested:\n",
    "1. IBM data science\n",
    "2. Web3 and Blockchain in Global Commerce\n",
    "3. Blockchain\n",
    "4. ~~Decentralized Finance (DeFi) Infrastructure~~\n"
   ]
  },
  {
   "cell_type": "code",
   "execution_count": null,
   "id": "d47071c1-b9aa-419f-ac99-40467b9f956a",
   "metadata": {},
   "outputs": [],
   "source": []
  }
 ],
 "metadata": {
  "kernelspec": {
   "display_name": "Python",
   "language": "python",
   "name": "conda-env-python-py"
  },
  "language_info": {
   "codemirror_mode": {
    "name": "ipython",
    "version": 3
   },
   "file_extension": ".py",
   "mimetype": "text/x-python",
   "name": "python",
   "nbconvert_exporter": "python",
   "pygments_lexer": "ipython3",
   "version": "3.7.12"
  }
 },
 "nbformat": 4,
 "nbformat_minor": 5
}
